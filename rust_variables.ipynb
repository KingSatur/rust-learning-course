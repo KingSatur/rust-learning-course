{
 "cells": [
  {
   "cell_type": "markdown",
   "id": "9deab37a-c33a-4abc-80c0-996a19a1f916",
   "metadata": {},
   "source": [
    "## Basic data types"
   ]
  },
  {
   "cell_type": "code",
   "execution_count": 9,
   "id": "2d37e4ea-b044-41fc-9d85-700c019535fb",
   "metadata": {},
   "outputs": [],
   "source": [
    "//With type\n",
    "let name: &str = \"Foo\";\n",
    "//Without specifing the type\n",
    "let last_name = \"lastname\";"
   ]
  },
  {
   "cell_type": "markdown",
   "id": "4872d029-ef81-4f0d-b0bc-f95c4284bcb5",
   "metadata": {},
   "source": [
    "## Mutable variables"
   ]
  },
  {
   "cell_type": "code",
   "execution_count": null,
   "id": "2abdf6bc-f42a-408f-8117-3bfb319598ba",
   "metadata": {},
   "outputs": [],
   "source": [
    "let mut score = 13;\n",
    "score = 30;"
   ]
  },
  {
   "cell_type": "markdown",
   "id": "06902ea8-cfdc-4fe6-b6f4-8e35f6cfbad6",
   "metadata": {},
   "source": [
    "### Inmutable variables"
   ]
  },
  {
   "cell_type": "code",
   "execution_count": null,
   "id": "66beadfb-9906-4aba-9ffb-2719bd38bc6f",
   "metadata": {},
   "outputs": [],
   "source": []
  }
 ],
 "metadata": {
  "kernelspec": {
   "display_name": "Rust",
   "language": "rust",
   "name": "rust"
  },
  "language_info": {
   "codemirror_mode": "rust",
   "file_extension": ".rs",
   "mimetype": "text/rust",
   "name": "Rust",
   "pygment_lexer": "rust",
   "version": ""
  }
 },
 "nbformat": 4,
 "nbformat_minor": 5
}
